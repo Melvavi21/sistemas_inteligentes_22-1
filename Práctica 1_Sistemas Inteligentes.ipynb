{
  "nbformat": 4,
  "nbformat_minor": 2,
  "metadata": {
    "colab": {
      "name": "Práctica 1. Sistemas Inteligentes",
      "provenance": [],
      "authorship_tag": "ABX9TyMgA7ZvdFXeAS2nrP5aO7T4",
      "include_colab_link": true
    },
    "kernelspec": {
      "name": "python3",
      "display_name": "Python 3.7.7 64-bit ('base': conda)"
    },
    "language_info": {
      "name": "python",
      "version": "3.7.7",
      "mimetype": "text/x-python",
      "codemirror_mode": {
        "name": "ipython",
        "version": 3
      },
      "pygments_lexer": "ipython3",
      "nbconvert_exporter": "python",
      "file_extension": ".py"
    },
    "interpreter": {
      "hash": "e93df41550c1dd51299ed2f0383fa4326b7fd0bc47b7013c494dc2c308ca5bc2"
    }
  },
  "cells": [
    {
      "cell_type": "markdown",
      "source": [
        "<a href=\"https://colab.research.google.com/github/jmvazqueznicolas/sistemas_inteligentes_22-1/blob/master/Pr%C3%A1ctica%201_Sistemas%20Inteligentes.ipynb\" target=\"_parent\"><img src=\"https://colab.research.google.com/assets/colab-badge.svg\" alt=\"Open In Colab\"/></a>"
      ],
      "metadata": {
        "id": "view-in-github",
        "colab_type": "text"
      }
    },
    {
      "cell_type": "markdown",
      "source": [
        "##Práctica 1. Sistemas Inteligentes"
      ],
      "metadata": {
        "id": "p7gQXSbxmAO4"
      }
    },
    {
      "cell_type": "markdown",
      "source": [
        "### 1.- Escribe un programa que pregunte el nombre del usuario en la consola y que le muestre un mensaje de bienvenida al usuario utilizando su nombre."
      ],
      "metadata": {
        "id": "IjAnMSs2LJcb"
      }
    },
    {
      "cell_type": "code",
      "execution_count": null,
      "source": [],
      "outputs": [],
      "metadata": {
        "id": "FAsr9Krcle85"
      }
    },
    {
      "cell_type": "markdown",
      "source": [
        "### 2.- Escribe un programa que calcule cuanto se le debe pagar a un trabajador, donde la información de entrada es el número de horas trabajadas. Despues modifiquelo para que tambien pida el nombre del trabajador y lo muestre junto con su salario."
      ],
      "metadata": {
        "id": "bMR4BAjfLVBL"
      }
    },
    {
      "cell_type": "code",
      "execution_count": null,
      "source": [],
      "outputs": [],
      "metadata": {
        "id": "Q4ZN9-Rsl4eI"
      }
    },
    {
      "cell_type": "markdown",
      "source": [
        "### 3.- Escribe un programa que calcule la suma de los primernos n números naturales. "
      ],
      "metadata": {
        "id": "VM5u2HyqLhly"
      }
    },
    {
      "cell_type": "code",
      "execution_count": null,
      "source": [],
      "outputs": [],
      "metadata": {
        "id": "KJvJ6Wral52-"
      }
    },
    {
      "cell_type": "markdown",
      "source": [
        "### 4.- Escribe un programa\n"
      ],
      "metadata": {
        "id": "6kERXucnLwlm"
      }
    },
    {
      "cell_type": "code",
      "execution_count": null,
      "source": [],
      "outputs": [],
      "metadata": {
        "id": "TmSOmoODl6NK"
      }
    }
  ]
}