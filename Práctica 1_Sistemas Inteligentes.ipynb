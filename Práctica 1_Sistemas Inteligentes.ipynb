{
  "nbformat": 4,
  "nbformat_minor": 0,
  "metadata": {
    "colab": {
      "name": "Práctica 1. Sistemas Inteligentes",
      "provenance": [],
      "authorship_tag": "ABX9TyMgA7ZvdFXeAS2nrP5aO7T4",
      "include_colab_link": true
    },
    "kernelspec": {
      "name": "python3",
      "display_name": "Python 3"
    }
  },
  "cells": [
    {
      "cell_type": "markdown",
      "metadata": {
        "id": "view-in-github",
        "colab_type": "text"
      },
      "source": [
        "<a href=\"https://colab.research.google.com/github/jmvazqueznicolas/sistemas_inteligentes_22-1/blob/master/Pr%C3%A1ctica%201_Sistemas%20Inteligentes.ipynb\" target=\"_parent\"><img src=\"https://colab.research.google.com/assets/colab-badge.svg\" alt=\"Open In Colab\"/></a>"
      ]
    },
    {
      "cell_type": "markdown",
      "metadata": {
        "id": "p7gQXSbxmAO4"
      },
      "source": [
        "##Práctica 1. Sistemas Inteligentes"
      ]
    },
    {
      "cell_type": "markdown",
      "metadata": {
        "id": "IjAnMSs2LJcb"
      },
      "source": [
        "###1.- Escribe un programa que "
      ]
    },
    {
      "cell_type": "code",
      "metadata": {
        "id": "FAsr9Krcle85"
      },
      "source": [
        ""
      ],
      "execution_count": null,
      "outputs": []
    },
    {
      "cell_type": "markdown",
      "metadata": {
        "id": "bMR4BAjfLVBL"
      },
      "source": [
        "###2.- Escribe un programa"
      ]
    },
    {
      "cell_type": "code",
      "metadata": {
        "id": "Q4ZN9-Rsl4eI"
      },
      "source": [
        ""
      ],
      "execution_count": null,
      "outputs": []
    },
    {
      "cell_type": "markdown",
      "metadata": {
        "id": "VM5u2HyqLhly"
      },
      "source": [
        "### 3.- Escribe un programa"
      ]
    },
    {
      "cell_type": "code",
      "metadata": {
        "id": "KJvJ6Wral52-"
      },
      "source": [
        ""
      ],
      "execution_count": null,
      "outputs": []
    },
    {
      "cell_type": "markdown",
      "metadata": {
        "id": "6kERXucnLwlm"
      },
      "source": [
        "### 4.- Escribe un programa\n"
      ]
    },
    {
      "cell_type": "code",
      "metadata": {
        "id": "TmSOmoODl6NK"
      },
      "source": [
        ""
      ],
      "execution_count": null,
      "outputs": []
    }
  ]
}